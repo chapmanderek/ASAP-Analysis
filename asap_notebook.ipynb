{
 "cells": [
  {
   "cell_type": "markdown",
   "metadata": {},
   "source": [
    "# Aloha Ship and Pack - Mililani"
   ]
  },
  {
   "cell_type": "markdown",
   "metadata": {},
   "source": [
    "## Setup"
   ]
  },
  {
   "cell_type": "markdown",
   "metadata": {},
   "source": [
    "### File Paths"
   ]
  },
  {
   "cell_type": "code",
   "execution_count": 11,
   "metadata": {},
   "outputs": [],
   "source": [
    "TRANSACTIONS_2019 = 'records_2019_trimmed.csv'\n",
    "TRANSACTIONS_2020 = 'records_2020_trimmed.csv'\n",
    "TRANSACTIONS_2021 = 'records_2021_trimmed.csv'\n",
    "YEARS_COVERED = '2019 to 2021'\n",
    "DEPARTMENTS  = 'sku_to_departments.csv'"
   ]
  },
  {
   "cell_type": "markdown",
   "metadata": {},
   "source": [
    "### Packages"
   ]
  },
  {
   "cell_type": "code",
   "execution_count": 12,
   "metadata": {},
   "outputs": [],
   "source": [
    "import matplotlib.pyplot as plt\n",
    "import numpy as np\n",
    "import pandas as pd\n",
    "import seaborn as sns\n",
    "import sklearn"
   ]
  },
  {
   "cell_type": "markdown",
   "metadata": {},
   "source": [
    "### Load CSVs into Dataframes"
   ]
  },
  {
   "cell_type": "code",
   "execution_count": 13,
   "metadata": {},
   "outputs": [],
   "source": [
    "def load_csvs():\n",
    "    transactions = pd.read_csv(TRANSACTIONS_2019)\n",
    "    for each in [TRANSACTIONS_2020, TRANSACTIONS_2021]:\n",
    "        t_df = pd.read_csv(each)\n",
    "        transactions = transactions.append(t_df)\n",
    "\n",
    "    transactions.reset_index(drop=True, inplace=True)\n",
    "    sku2department = pd.read_csv(DEPARTMENTS)\n",
    "    \n",
    "    del(t_df)\n",
    "    return transactions, sku2department\n"
   ]
  },
  {
   "cell_type": "markdown",
   "metadata": {},
   "source": [
    "### Clean transactions dataframe"
   ]
  },
  {
   "cell_type": "code",
   "execution_count": 14,
   "metadata": {},
   "outputs": [],
   "source": [
    "def clean_dataframe(trans_df):\n",
    "    #column names\n",
    "    cols_dict = {\n",
    "        'Payment Method' : 'Payment_Method',\n",
    "        'Department' : 'Item_Name',\n",
    "        'Unit Price' : 'Unit_Price',\n",
    "        'Disc' : 'Discount',\n",
    "        'Ext Price' : 'Extended_Price',\n",
    "        'Sub-Total:' : 'Sub_Total',\n",
    "        'Sales Tax:' : 'Sales_Tax',\n",
    "        'Invoice Total:' : 'Invoice_Total',\n",
    "    }\n",
    "    trans_df.rename(columns=cols_dict, inplace=True)\n",
    "\n",
    "    #remove $ signs and commas\n",
    "    print(\"Removing $ signs and commas\")\n",
    "    cols_to_strip = ['Unit_Price', 'Extended_Price', 'Sub_Total', 'Invoice_Total']\n",
    "    for col in cols_to_strip:\n",
    "        trans_df[col] = trans_df[col].apply(lambda x: x.replace('$', ''))\n",
    "        trans_df[col] = trans_df[col].apply(lambda x: x.replace(',', ''))\n",
    "\n",
    "    #make (###) into -###\n",
    "    trans_df.reset_index(drop=True, inplace=True)\n",
    "    print('converting negative numbers to numerical type string')\n",
    "    cols_to_sign = ['Unit_Price', 'Extended_Price', 'Sub_Total', 'Invoice_Total']\n",
    "    for col in cols_to_sign:\n",
    "        idxs_to_change = trans_df[col].str.contains(\"(\", regex=False).to_numpy().nonzero()[0]\n",
    "        for i in idxs_to_change:\n",
    "            cell = \"-\" + trans_df.at[i,col][1:-1]\n",
    "            trans_df.at[i,col] = cell\n",
    "\n",
    "    #change types to float\n",
    "    print('changing numberical types to float')\n",
    "    cols_to_float = ['Unit_Price', 'Extended_Price', 'Sub_Total', 'Sales_Tax', 'Invoice_Total']\n",
    "    for col in cols_to_float:\n",
    "        trans_df[col] = trans_df[col].astype(float)\n",
    "\n",
    "    #combine date and time into a datetime object instead of just strings\n",
    "    trans_df['DateTimeStamp'] = pd.to_datetime(trans_df.Date + \" \" + trans_df.Time)\n",
    "    trans_df['DateStamp'] = pd.to_datetime(trans_df.Date)\n",
    "\n",
    "    #drop original columns so its not confusing\n",
    "    trans_df.drop(['Date', 'Time'], axis=1, inplace=True)\n",
    "    \n",
    "    return trans_df\n",
    "    "
   ]
  },
  {
   "cell_type": "code",
   "execution_count": 15,
   "metadata": {},
   "outputs": [],
   "source": [
    "def merge_dfs(trans_df, sku2dept_df):\n",
    "    ## Merge department names from Inventory list into the transactions listing\n",
    "    trans_df = pd.merge(trans_df, sku2dept_df[['SKU', 'Department']], \n",
    "                how='left', left_on='SKU', right_on='SKU')\n",
    "\n",
    "    #create a transaction id/key\n",
    "    trans_df['transaction_id'] = range(1, len(trans_df)+1)\n",
    "\n",
    "    return trans_df\n"
   ]
  },
  {
   "cell_type": "code",
   "execution_count": 16,
   "metadata": {},
   "outputs": [],
   "source": [
    "def missing_dept_records(trans_df):\n",
    "    #Address missing SKU2Department Records that leave an NA in Department\n",
    "    missing_idxs = trans_df.Department.isna().to_numpy().nonzero()[0]\n",
    "\n",
    "    for i in missing_idxs:\n",
    "        cell = trans_df.at[i, 'SKU']\n",
    "        if 'FEDEX' in cell or 'OAHU-GND' in cell:\n",
    "            trans_df.at[i, 'Department'] = 'FEDEX'\n",
    "        elif 'USPS' in cell or 'FIRSTCLASS' in cell or 'FirstClass' in cell:\n",
    "            trans_df.at[i, 'Department'] = 'USPS'\n",
    "        elif 'DHL' in cell:\n",
    "            trans_df.at[i, 'Department'] = 'DHL'\n",
    "        elif 'MBDWCLUTCH' in cell or 'MBDVOTIVE' in cell:\n",
    "            trans_df.at[i, 'Department'] = 'RETAIL' \n",
    "        elif 'WWXSVR' in cell:\n",
    "            trans_df.at[i, 'Department'] = 'UPS'\n",
    "\n",
    "    # Single letter items\n",
    "    fl = ['F3.5', 'F5', 'F3', 'F2', 'F4', 'F1', 'F10', \n",
    "            'F6', 'F9', 'F7', 'F8', 'F11', 'F12', 'F13']\n",
    "    ml = ['M2','M3']\n",
    "    pl = ['P4', 'P3', 'P5', 'P12', 'P3.5','P1', 'P2', \n",
    "            'P6', 'P7', 'P9', 'P8', 'P10', 'P11']\n",
    "\n",
    "    trans_df.loc[(trans_df.SKU.isin(fl)), 'Department'] = 'USPS'\n",
    "    trans_df.loc[(trans_df.SKU.isin(ml)), 'Department'] = 'USPS'\n",
    "    trans_df.loc[(trans_df.SKU.isin(pl)), 'Department'] = 'USPS'\n",
    "    trans_df.loc[(trans_df.SKU.isin(['MBXR', 'MBX'])), 'Department'] = 'MAILBOX'\n",
    "        \n",
    "    post_missing_idxs = trans_df.Department.isna().to_numpy().nonzero()[0]\n",
    "    print(\"# of Missing department records to get dropped: \", len(post_missing_idxs))\n",
    "\n",
    "    #drop remaining NAs\n",
    "    trans_df.dropna(inplace=True)\n",
    "\n",
    "    return trans_df"
   ]
  },
  {
   "cell_type": "markdown",
   "metadata": {},
   "source": [
    "## Load/Reload Dataframes"
   ]
  },
  {
   "cell_type": "code",
   "execution_count": 25,
   "metadata": {},
   "outputs": [
    {
     "name": "stdout",
     "output_type": "stream",
     "text": [
      "Removing $ signs and commas\n",
      "converting negative numbers to numerical type string\n",
      "changing numberical types to float\n",
      "# of Missing department records to get dropped:  25\n"
     ]
    }
   ],
   "source": [
    "if 'transactions' in locals() or 'transactions' in globals():\n",
    "    print('deleting transactions dataframe')\n",
    "    del transactions\n",
    "\n",
    "transactions, sku2department = load_csvs()\n",
    "transactions = clean_dataframe(transactions)\n",
    "transactions = merge_dfs(transactions, sku2department)\n",
    "transactions = missing_dept_records(transactions)"
   ]
  },
  {
   "cell_type": "markdown",
   "metadata": {},
   "source": [
    "## Visualizations"
   ]
  },
  {
   "cell_type": "markdown",
   "metadata": {},
   "source": [
    "### Transactions by Volume and total sales amount"
   ]
  },
  {
   "cell_type": "code",
   "execution_count": 27,
   "metadata": {},
   "outputs": [],
   "source": [
    "info = pd.DataFrame(transactions.Department.value_counts())\n",
    "info.reset_index(inplace=True)\n",
    "info.columns = ['Department', 'Counts']\n",
    "\n",
    "#Departments by sales volume\n",
    "sales_volume = []\n",
    "for dept in transactions.Department.unique():\n",
    "    t_s = transactions[transactions.Department == dept]['Extended_Price']\n",
    "    t_s = int(sum(t_s))\n",
    "    sales_volume.append( (dept,t_s) )\n",
    "\n",
    "sv_df = pd.DataFrame(sales_volume)\n",
    "sv_df.columns = ['Department', 'Total_Sales']\n",
    "\n",
    "counts_total_sales_df = pd.merge(info, sv_df, how='outer', left_on='Department', right_on='Department')\n",
    "\n",
    "#created 'normed' sales volume so it doesnt throw off the graph\n",
    "sales_max = counts_total_sales_df.Total_Sales.max()\n",
    "counts_max = counts_total_sales_df.Counts.max()\n",
    "\n",
    "counts_total_sales_df['normed_total_sales'] = counts_total_sales_df.Total_Sales / sales_max\n",
    "counts_total_sales_df['normed_total_sales'] = (counts_total_sales_df['normed_total_sales'] * counts_max).astype(int)\n",
    "\n",
    "#drop MISC NON TAX as its not really a sales item and its vague\n",
    "idx = counts_total_sales_df[counts_total_sales_df.Department == 'MISC NON TAX'].index\n",
    "counts_total_sales_df.drop(idx, inplace=True)\n",
    "\n",
    "#remove negatives as its throwing off the graph and not very informational\n",
    "counts_total_sales_df.loc[(counts_total_sales_df.normed_total_sales < 0), 'normed_total_sales'] = 0\n"
   ]
  },
  {
   "cell_type": "code",
   "execution_count": 12,
   "metadata": {},
   "outputs": [
    {
     "data": {
      "text/html": [
       "<div>\n",
       "<style scoped>\n",
       "    .dataframe tbody tr th:only-of-type {\n",
       "        vertical-align: middle;\n",
       "    }\n",
       "\n",
       "    .dataframe tbody tr th {\n",
       "        vertical-align: top;\n",
       "    }\n",
       "\n",
       "    .dataframe thead th {\n",
       "        text-align: right;\n",
       "    }\n",
       "</style>\n",
       "<table border=\"1\" class=\"dataframe\">\n",
       "  <thead>\n",
       "    <tr style=\"text-align: right;\">\n",
       "      <th></th>\n",
       "      <th>Department</th>\n",
       "      <th>Counts</th>\n",
       "      <th>Total_Sales</th>\n",
       "      <th>normed_total_sales</th>\n",
       "    </tr>\n",
       "  </thead>\n",
       "  <tbody>\n",
       "    <tr>\n",
       "      <th>0</th>\n",
       "      <td>USPS</td>\n",
       "      <td>21317</td>\n",
       "      <td>413180</td>\n",
       "      <td>21317</td>\n",
       "    </tr>\n",
       "    <tr>\n",
       "      <th>1</th>\n",
       "      <td>COPIES</td>\n",
       "      <td>13155</td>\n",
       "      <td>87635</td>\n",
       "      <td>4521</td>\n",
       "    </tr>\n",
       "    <tr>\n",
       "      <th>2</th>\n",
       "      <td>RETAIL</td>\n",
       "      <td>11783</td>\n",
       "      <td>119245</td>\n",
       "      <td>6152</td>\n",
       "    </tr>\n",
       "    <tr>\n",
       "      <th>3</th>\n",
       "      <td>NOTARY</td>\n",
       "      <td>6799</td>\n",
       "      <td>101348</td>\n",
       "      <td>5228</td>\n",
       "    </tr>\n",
       "    <tr>\n",
       "      <th>4</th>\n",
       "      <td>FAX</td>\n",
       "      <td>4276</td>\n",
       "      <td>23108</td>\n",
       "      <td>1192</td>\n",
       "    </tr>\n",
       "    <tr>\n",
       "      <th>5</th>\n",
       "      <td>METER</td>\n",
       "      <td>4228</td>\n",
       "      <td>13914</td>\n",
       "      <td>717</td>\n",
       "    </tr>\n",
       "    <tr>\n",
       "      <th>7</th>\n",
       "      <td>FEDEX</td>\n",
       "      <td>2262</td>\n",
       "      <td>255359</td>\n",
       "      <td>13174</td>\n",
       "    </tr>\n",
       "    <tr>\n",
       "      <th>8</th>\n",
       "      <td>CARDS</td>\n",
       "      <td>1049</td>\n",
       "      <td>8533</td>\n",
       "      <td>440</td>\n",
       "    </tr>\n",
       "    <tr>\n",
       "      <th>9</th>\n",
       "      <td>PACK</td>\n",
       "      <td>747</td>\n",
       "      <td>11609</td>\n",
       "      <td>598</td>\n",
       "    </tr>\n",
       "    <tr>\n",
       "      <th>10</th>\n",
       "      <td>UPS</td>\n",
       "      <td>706</td>\n",
       "      <td>114870</td>\n",
       "      <td>5926</td>\n",
       "    </tr>\n",
       "    <tr>\n",
       "      <th>11</th>\n",
       "      <td>MAILBOX</td>\n",
       "      <td>679</td>\n",
       "      <td>66402</td>\n",
       "      <td>3425</td>\n",
       "    </tr>\n",
       "    <tr>\n",
       "      <th>12</th>\n",
       "      <td>LAMINATING</td>\n",
       "      <td>570</td>\n",
       "      <td>6472</td>\n",
       "      <td>333</td>\n",
       "    </tr>\n",
       "    <tr>\n",
       "      <th>13</th>\n",
       "      <td>DEPOSITS</td>\n",
       "      <td>297</td>\n",
       "      <td>3472</td>\n",
       "      <td>179</td>\n",
       "    </tr>\n",
       "    <tr>\n",
       "      <th>14</th>\n",
       "      <td>DHL</td>\n",
       "      <td>86</td>\n",
       "      <td>13987</td>\n",
       "      <td>721</td>\n",
       "    </tr>\n",
       "    <tr>\n",
       "      <th>15</th>\n",
       "      <td>TEXTBOOK BUYBACK</td>\n",
       "      <td>6</td>\n",
       "      <td>-85</td>\n",
       "      <td>0</td>\n",
       "    </tr>\n",
       "  </tbody>\n",
       "</table>\n",
       "</div>"
      ],
      "text/plain": [
       "          Department  Counts  Total_Sales  normed_total_sales\n",
       "0               USPS   21317       413180               21317\n",
       "1             COPIES   13155        87635                4521\n",
       "2             RETAIL   11783       119245                6152\n",
       "3             NOTARY    6799       101348                5228\n",
       "4                FAX    4276        23108                1192\n",
       "5              METER    4228        13914                 717\n",
       "7              FEDEX    2262       255359               13174\n",
       "8              CARDS    1049         8533                 440\n",
       "9               PACK     747        11609                 598\n",
       "10               UPS     706       114870                5926\n",
       "11           MAILBOX     679        66402                3425\n",
       "12        LAMINATING     570         6472                 333\n",
       "13          DEPOSITS     297         3472                 179\n",
       "14               DHL      86        13987                 721\n",
       "15  TEXTBOOK BUYBACK       6          -85                   0"
      ]
     },
     "execution_count": 12,
     "metadata": {},
     "output_type": "execute_result"
    }
   ],
   "source": [
    "counts_total_sales_df"
   ]
  },
  {
   "cell_type": "code",
   "execution_count": 132,
   "metadata": {},
   "outputs": [
    {
     "data": {
      "text/plain": [
       "Text(0.5, 1.0, 'By Number of Transactions')"
      ]
     },
     "execution_count": 132,
     "metadata": {},
     "output_type": "execute_result"
    },
    {
     "data": {
      "image/png": "[encoded data removed]",
      "text/plain": [
       "<Figure size 864x432 with 1 Axes>"
      ]
     },
     "metadata": {},
     "output_type": "display_data"
    }
   ],
   "source": [
    "#Departments by number of transactions \n",
    "sns.set_style('darkgrid')\n",
    "plt.figure(figsize = (12,6))\n",
    "ax = sns.barplot(data = counts_total_sales_df, x='Department', y='Counts', color='dodgerblue')\n",
    "_ = ax.set_xticklabels(ax.get_xticklabels(), rotation = 30, ha = 'right')\n",
    "ax.set_xlabel('')\n",
    "plt.title(\"By Number of Transactions\")\n"
   ]
  },
  {
   "cell_type": "code",
   "execution_count": 134,
   "metadata": {},
   "outputs": [
    {
     "data": {
      "text/plain": [
       "Text(0.5, 1.0, 'By Sales Volume')"
      ]
     },
     "execution_count": 134,
     "metadata": {},
     "output_type": "execute_result"
    },
    {
     "data": {
      "image/png": "[encoded data removed]",
      "text/plain": [
       "<Figure size 1080x576 with 1 Axes>"
      ]
     },
     "metadata": {},
     "output_type": "display_data"
    }
   ],
   "source": [
    "sns.set_style('darkgrid')\n",
    "plt.figure(figsize = (15,8))\n",
    "ax = sns.barplot(data = counts_total_sales_df, x='Department', y='Total_Sales')\n",
    "_ = ax.set_xticklabels(ax.get_xticklabels(),rotation = 30, ha = 'right', size = 14)\n",
    "ax.yaxis.set_major_formatter('${x:,}')\n",
    "# ax.set_yticklabels(ax.get_yticklabels(), size = 14)\n",
    "plt.title(\"By Sales Volume\")"
   ]
  },
  {
   "cell_type": "markdown",
   "metadata": {},
   "source": [
    "### Combined Graph"
   ]
  },
  {
   "cell_type": "code",
   "execution_count": 111,
   "metadata": {},
   "outputs": [
    {
     "name": "stderr",
     "output_type": "stream",
     "text": [
      "/var/folders/yz/6drrhg0x63596m99cvrlz3xc0000gp/T/ipykernel_1617/1077072188.py:33: UserWarning: FixedFormatter should only be used together with FixedLocator\n",
      "  _ = ax2.set_yticklabels([\"$0\", \"$115,000\", \"$230,000\", \"$345,000\", \"$465,000\"])\n"
     ]
    },
    {
     "data": {
      "image/png": "[encoded data removed]",
      "text/plain": [
       "<Figure size 864x576 with 2 Axes>"
      ]
     },
     "metadata": {},
     "output_type": "display_data"
    }
   ],
   "source": [
    "BASE_FONT_SIZE = 14\n",
    "TITLE_FONT_SIZE = 16\n",
    "info_df = counts_total_sales_df[['Department', 'Counts', 'normed_total_sales']]\n",
    "info_melt = pd.melt(info_df, id_vars=\"Department\")\n",
    "\n",
    "sns.set_style('whitegrid')\n",
    "fig, ax1 = plt.subplots()\n",
    "fig.set_size_inches(12,8)\n",
    "b = sns.barplot(x='Department', y='value', hue='variable', data=info_melt)\n",
    "\n",
    "###adjust the look of the plot\n",
    "## x-axis\n",
    "x_tick_labels = ax1.xaxis.get_ticklabels()\n",
    "_ = ax1.xaxis.set_ticklabels(x_tick_labels, rotation = 45, ha = 'right', size = BASE_FONT_SIZE-2)\n",
    "_ = ax1.xaxis.set_label_text(\"\")\n",
    "\n",
    "\n",
    "#colorize the x labels\n",
    "shipping_companies = ['USPS', 'UPS', 'FEDEX', 'DHL']\n",
    "for tick in x_tick_labels:\n",
    "    tick_text = tick.get_text()\n",
    "    if tick_text in shipping_companies : tick.set_color('red')\n",
    "\n",
    "## y-axis\n",
    "ax1.yaxis.set_major_locator(plt.MaxNLocator(4))\n",
    "_ = ax1.yaxis.set_label_text(\"# of Transactions\")\n",
    "ax1.yaxis.label.set_fontsize(BASE_FONT_SIZE)\n",
    "\n",
    "#right side y-axis\n",
    "ax2 = ax1.twinx()\n",
    "ax2.set_ylim(ax1.get_ylim())\n",
    "ax2.yaxis.set_major_locator(plt.MaxNLocator(4))\n",
    "_ = ax2.set_yticklabels([\"$0\", \"$115,000\", \"$230,000\", \"$345,000\", \"$465,000\"])\n",
    "ax2.set_ylabel('Sales Volume', fontsize=BASE_FONT_SIZE)\n",
    "\n",
    "#adjust the legend\n",
    "ax1.legend(fontsize = TITLE_FONT_SIZE)\n",
    "\n",
    "# legend.set_title('')\n",
    "for t, l in zip(ax1.legend_.texts, ('Transactions', \"Sales Volume\")):\n",
    "    t.set_text(l)\n",
    "\n",
    "# other\n",
    "ax1.tick_params(bottom=True)\n",
    "ax2.tick_params(left=False, right=False)\n",
    "sns.despine(left=True, bottom=False, right=True)\n",
    "\n",
    "plt.show()"
   ]
  },
  {
   "cell_type": "markdown",
   "metadata": {},
   "source": [
    "### Historgram of shipping companies"
   ]
  },
  {
   "cell_type": "code",
   "execution_count": 144,
   "metadata": {},
   "outputs": [
    {
     "data": {
      "image/png": "[encoded data removed]",
      "text/plain": [
       "<Figure size 432x288 with 1 Axes>"
      ]
     },
     "metadata": {},
     "output_type": "display_data"
    }
   ],
   "source": [
    "EDGE_C = '1'\n",
    "LINE_W = '1'\n",
    "BIN_WDTH = 30\n",
    "\n",
    "usps_trans = transactions[transactions.Department == 'USPS']['Extended_Price']\n",
    "fedex_trans = transactions[transactions.Department == 'FEDEX']['Extended_Price']\n",
    "dhl_trans = transactions[transactions.Department == 'DHL']['Extended_Price']\n",
    "sns.histplot(data = usps_trans, color='brown', bins=20, label='USPS', binwidth=BIN_WDTH)\n",
    "sns.histplot(data = fedex_trans, color='purple', bins=20, label='FedEX', binwidth=BIN_WDTH)\n",
    "b = sns.histplot(data = dhl_trans, color='yellow', bins=10, label='DHL', binwidth=BIN_WDTH)\n",
    "b.set_yscale('log')\n",
    "\n",
    "plt.legend()\n",
    "plt.show()"
   ]
  },
  {
   "cell_type": "markdown",
   "metadata": {},
   "source": [
    "### What do customers buy during their first named transaction?"
   ]
  },
  {
   "cell_type": "markdown",
   "metadata": {},
   "source": [
    "? what if they buy multiple things together?  Consider each one a first transaction as long as its on the same date?"
   ]
  },
  {
   "cell_type": "code",
   "execution_count": 58,
   "metadata": {},
   "outputs": [],
   "source": [
    "customers = list(transactions.Customer.unique())\n",
    "customers.pop(customers.index('Cash, Check, Charge'))\n",
    "\n",
    "first_transactions = transactions.sort_values(by=['Customer','DateStamp']).groupby('Customer').head(1)\n",
    "first_transactions = first_transactions[['Customer', 'DateStamp']]\n"
   ]
  },
  {
   "cell_type": "code",
   "execution_count": 69,
   "metadata": {},
   "outputs": [
    {
     "data": {
      "text/html": [
       "<div>\n",
       "<style scoped>\n",
       "    .dataframe tbody tr th:only-of-type {\n",
       "        vertical-align: middle;\n",
       "    }\n",
       "\n",
       "    .dataframe tbody tr th {\n",
       "        vertical-align: top;\n",
       "    }\n",
       "\n",
       "    .dataframe thead th {\n",
       "        text-align: right;\n",
       "    }\n",
       "</style>\n",
       "<table border=\"1\" class=\"dataframe\">\n",
       "  <thead>\n",
       "    <tr style=\"text-align: right;\">\n",
       "      <th></th>\n",
       "      <th>Customer</th>\n",
       "      <th>DateStamp</th>\n",
       "    </tr>\n",
       "  </thead>\n",
       "  <tbody>\n",
       "    <tr>\n",
       "      <th>580</th>\n",
       "      <td>1016 Properties</td>\n",
       "      <td>2019-01-11</td>\n",
       "    </tr>\n",
       "    <tr>\n",
       "      <th>66913</th>\n",
       "      <td>102d  Mp Det (cid)</td>\n",
       "      <td>2021-10-25</td>\n",
       "    </tr>\n",
       "    <tr>\n",
       "      <th>56286</th>\n",
       "      <td>19th Mp Bn (cid)</td>\n",
       "      <td>2021-05-11</td>\n",
       "    </tr>\n",
       "    <tr>\n",
       "      <th>55796</th>\n",
       "      <td>2 Thumbs Tattoo</td>\n",
       "      <td>2021-05-04</td>\n",
       "    </tr>\n",
       "    <tr>\n",
       "      <th>30190</th>\n",
       "      <td>Abalos, Amirose</td>\n",
       "      <td>2020-06-05</td>\n",
       "    </tr>\n",
       "  </tbody>\n",
       "</table>\n",
       "</div>"
      ],
      "text/plain": [
       "                 Customer  DateStamp\n",
       "580       1016 Properties 2019-01-11\n",
       "66913  102d  Mp Det (cid) 2021-10-25\n",
       "56286    19th Mp Bn (cid) 2021-05-11\n",
       "55796     2 Thumbs Tattoo 2021-05-04\n",
       "30190     Abalos, Amirose 2020-06-05"
      ]
     },
     "execution_count": 69,
     "metadata": {},
     "output_type": "execute_result"
    }
   ],
   "source": [
    "for customer in customers:\n",
    "    first_transactions[first_transactions.Customer == customer]"
   ]
  },
  {
   "cell_type": "code",
   "execution_count": 68,
   "metadata": {},
   "outputs": [],
   "source": [
    "def write_first_transactions_to_file(first_trans):\n",
    "    with open('output.txt', 'w') as f:\n",
    "        for line in first_trans:\n",
    "            output_line = \"\"\n",
    "            for element in line:\n",
    "                output_line = output_line + element + ' '\n",
    "            output_line = output_line[:-1] + '\\n'\n",
    "            f.writelines(output_line)"
   ]
  },
  {
   "cell_type": "markdown",
   "metadata": {},
   "source": [
    "# Scratchpad area below"
   ]
  },
  {
   "cell_type": "markdown",
   "metadata": {},
   "source": [
    "### Trying to clean up all the remaining skus without department"
   ]
  },
  {
   "cell_type": "code",
   "execution_count": 185,
   "metadata": {},
   "outputs": [],
   "source": [
    "df.loc[(df.Event == 'Dance'),'Event']='Hip-Hop'"
   ]
  },
  {
   "cell_type": "code",
   "execution_count": 14,
   "metadata": {},
   "outputs": [],
   "source": [
    "transactions_copy = transactions.copy()"
   ]
  },
  {
   "cell_type": "code",
   "execution_count": 33,
   "metadata": {},
   "outputs": [],
   "source": [
    "transactions = transactions_copy.copy()"
   ]
  },
  {
   "cell_type": "code",
   "execution_count": 58,
   "metadata": {},
   "outputs": [
    {
     "data": {
      "text/html": [
       "<div>\n",
       "<style scoped>\n",
       "    .dataframe tbody tr th:only-of-type {\n",
       "        vertical-align: middle;\n",
       "    }\n",
       "\n",
       "    .dataframe tbody tr th {\n",
       "        vertical-align: top;\n",
       "    }\n",
       "\n",
       "    .dataframe thead th {\n",
       "        text-align: right;\n",
       "    }\n",
       "</style>\n",
       "<table border=\"1\" class=\"dataframe\">\n",
       "  <thead>\n",
       "    <tr style=\"text-align: right;\">\n",
       "      <th></th>\n",
       "      <th>Factor</th>\n",
       "      <th>Weight</th>\n",
       "      <th>Variance</th>\n",
       "    </tr>\n",
       "  </thead>\n",
       "  <tbody>\n",
       "    <tr>\n",
       "      <th>0</th>\n",
       "      <td>Growth</td>\n",
       "      <td>0.1</td>\n",
       "      <td>0.15</td>\n",
       "    </tr>\n",
       "    <tr>\n",
       "      <th>1</th>\n",
       "      <td>Value</td>\n",
       "      <td>0.2</td>\n",
       "      <td>0.35</td>\n",
       "    </tr>\n",
       "  </tbody>\n",
       "</table>\n",
       "</div>"
      ],
      "text/plain": [
       "   Factor  Weight  Variance\n",
       "0  Growth     0.1      0.15\n",
       "1   Value     0.2      0.35"
      ]
     },
     "execution_count": 58,
     "metadata": {},
     "output_type": "execute_result"
    }
   ],
   "source": [
    "df = pd.DataFrame({\n",
    "    'Factor': ['Growth', 'Value'],\n",
    "    'Weight': [0.10, 0.20],\n",
    "    'Variance': [0.15, 0.35]\n",
    "})\n",
    "\n",
    "df.head()"
   ]
  },
  {
   "cell_type": "code",
   "execution_count": 59,
   "metadata": {},
   "outputs": [
    {
     "data": {
      "text/html": [
       "<div>\n",
       "<style scoped>\n",
       "    .dataframe tbody tr th:only-of-type {\n",
       "        vertical-align: middle;\n",
       "    }\n",
       "\n",
       "    .dataframe tbody tr th {\n",
       "        vertical-align: top;\n",
       "    }\n",
       "\n",
       "    .dataframe thead th {\n",
       "        text-align: right;\n",
       "    }\n",
       "</style>\n",
       "<table border=\"1\" class=\"dataframe\">\n",
       "  <thead>\n",
       "    <tr style=\"text-align: right;\">\n",
       "      <th></th>\n",
       "      <th>Factor</th>\n",
       "      <th>Variable</th>\n",
       "      <th>Value</th>\n",
       "    </tr>\n",
       "  </thead>\n",
       "  <tbody>\n",
       "    <tr>\n",
       "      <th>0</th>\n",
       "      <td>Growth</td>\n",
       "      <td>Weight</td>\n",
       "      <td>0.10</td>\n",
       "    </tr>\n",
       "    <tr>\n",
       "      <th>1</th>\n",
       "      <td>Value</td>\n",
       "      <td>Weight</td>\n",
       "      <td>0.20</td>\n",
       "    </tr>\n",
       "    <tr>\n",
       "      <th>2</th>\n",
       "      <td>Growth</td>\n",
       "      <td>Variance</td>\n",
       "      <td>0.15</td>\n",
       "    </tr>\n",
       "    <tr>\n",
       "      <th>3</th>\n",
       "      <td>Value</td>\n",
       "      <td>Variance</td>\n",
       "      <td>0.35</td>\n",
       "    </tr>\n",
       "  </tbody>\n",
       "</table>\n",
       "</div>"
      ],
      "text/plain": [
       "   Factor  Variable  Value\n",
       "0  Growth    Weight   0.10\n",
       "1   Value    Weight   0.20\n",
       "2  Growth  Variance   0.15\n",
       "3   Value  Variance   0.35"
      ]
     },
     "execution_count": 59,
     "metadata": {},
     "output_type": "execute_result"
    }
   ],
   "source": [
    "tidy = df.melt(id_vars='Factor').rename(columns=str.title)\n",
    "tidy.head()"
   ]
  },
  {
   "cell_type": "markdown",
   "metadata": {},
   "source": [
    "### Trying to make sure the groupby and sort thing works\n",
    " to grab the first transaction from each unique customer"
   ]
  },
  {
   "cell_type": "code",
   "execution_count": 80,
   "metadata": {},
   "outputs": [],
   "source": [
    "small_transactions = transactions[transactions.Customer == 'Mahfet, Sherryl']\n",
    "small_transactions = small_transactions.append(transactions[transactions.Customer == 'Chapman, Derek'])\n",
    "small_transactions = small_transactions.append(transactions[transactions.Customer == 'Spray, William'])\n",
    "small_transactions.sort_index(inplace=True)"
   ]
  },
  {
   "cell_type": "code",
   "execution_count": 101,
   "metadata": {},
   "outputs": [
    {
     "data": {
      "text/html": [
       "<div>\n",
       "<style scoped>\n",
       "    .dataframe tbody tr th:only-of-type {\n",
       "        vertical-align: middle;\n",
       "    }\n",
       "\n",
       "    .dataframe tbody tr th {\n",
       "        vertical-align: top;\n",
       "    }\n",
       "\n",
       "    .dataframe thead th {\n",
       "        text-align: right;\n",
       "    }\n",
       "</style>\n",
       "<table border=\"1\" class=\"dataframe\">\n",
       "  <thead>\n",
       "    <tr style=\"text-align: right;\">\n",
       "      <th></th>\n",
       "      <th>Customer</th>\n",
       "      <th>DateStamp</th>\n",
       "    </tr>\n",
       "  </thead>\n",
       "  <tbody>\n",
       "    <tr>\n",
       "      <th>11866</th>\n",
       "      <td>Chapman, Derek</td>\n",
       "      <td>2019-08-05</td>\n",
       "    </tr>\n",
       "    <tr>\n",
       "      <th>11867</th>\n",
       "      <td>Chapman, Derek</td>\n",
       "      <td>2019-08-05</td>\n",
       "    </tr>\n",
       "    <tr>\n",
       "      <th>32512</th>\n",
       "      <td>Mahfet, Sherryl</td>\n",
       "      <td>2020-07-08</td>\n",
       "    </tr>\n",
       "    <tr>\n",
       "      <th>46804</th>\n",
       "      <td>Mahfet, Sherryl</td>\n",
       "      <td>2021-01-05</td>\n",
       "    </tr>\n",
       "    <tr>\n",
       "      <th>46805</th>\n",
       "      <td>Mahfet, Sherryl</td>\n",
       "      <td>2021-01-05</td>\n",
       "    </tr>\n",
       "    <tr>\n",
       "      <th>52953</th>\n",
       "      <td>Chapman, Derek</td>\n",
       "      <td>2021-03-29</td>\n",
       "    </tr>\n",
       "    <tr>\n",
       "      <th>58517</th>\n",
       "      <td>Chapman, Derek</td>\n",
       "      <td>2021-06-15</td>\n",
       "    </tr>\n",
       "    <tr>\n",
       "      <th>58518</th>\n",
       "      <td>Chapman, Derek</td>\n",
       "      <td>2021-06-15</td>\n",
       "    </tr>\n",
       "    <tr>\n",
       "      <th>59101</th>\n",
       "      <td>Mahfet, Sherryl</td>\n",
       "      <td>2021-06-24</td>\n",
       "    </tr>\n",
       "    <tr>\n",
       "      <th>70555</th>\n",
       "      <td>Chapman, Derek</td>\n",
       "      <td>2021-12-13</td>\n",
       "    </tr>\n",
       "    <tr>\n",
       "      <th>71038</th>\n",
       "      <td>Chapman, Derek</td>\n",
       "      <td>2021-12-16</td>\n",
       "    </tr>\n",
       "    <tr>\n",
       "      <th>71039</th>\n",
       "      <td>Chapman, Derek</td>\n",
       "      <td>2021-12-16</td>\n",
       "    </tr>\n",
       "    <tr>\n",
       "      <th>71811</th>\n",
       "      <td>Spray, William</td>\n",
       "      <td>2021-12-24</td>\n",
       "    </tr>\n",
       "    <tr>\n",
       "      <th>71812</th>\n",
       "      <td>Spray, William</td>\n",
       "      <td>2021-12-24</td>\n",
       "    </tr>\n",
       "    <tr>\n",
       "      <th>72205</th>\n",
       "      <td>Mahfet, Sherryl</td>\n",
       "      <td>2021-12-31</td>\n",
       "    </tr>\n",
       "    <tr>\n",
       "      <th>72206</th>\n",
       "      <td>Mahfet, Sherryl</td>\n",
       "      <td>2021-12-31</td>\n",
       "    </tr>\n",
       "    <tr>\n",
       "      <th>72209</th>\n",
       "      <td>Spray, William</td>\n",
       "      <td>2021-12-31</td>\n",
       "    </tr>\n",
       "    <tr>\n",
       "      <th>72210</th>\n",
       "      <td>Spray, William</td>\n",
       "      <td>2021-12-31</td>\n",
       "    </tr>\n",
       "  </tbody>\n",
       "</table>\n",
       "</div>"
      ],
      "text/plain": [
       "              Customer  DateStamp\n",
       "11866   Chapman, Derek 2019-08-05\n",
       "11867   Chapman, Derek 2019-08-05\n",
       "32512  Mahfet, Sherryl 2020-07-08\n",
       "46804  Mahfet, Sherryl 2021-01-05\n",
       "46805  Mahfet, Sherryl 2021-01-05\n",
       "52953   Chapman, Derek 2021-03-29\n",
       "58517   Chapman, Derek 2021-06-15\n",
       "58518   Chapman, Derek 2021-06-15\n",
       "59101  Mahfet, Sherryl 2021-06-24\n",
       "70555   Chapman, Derek 2021-12-13\n",
       "71038   Chapman, Derek 2021-12-16\n",
       "71039   Chapman, Derek 2021-12-16\n",
       "71811   Spray, William 2021-12-24\n",
       "71812   Spray, William 2021-12-24\n",
       "72205  Mahfet, Sherryl 2021-12-31\n",
       "72206  Mahfet, Sherryl 2021-12-31\n",
       "72209   Spray, William 2021-12-31\n",
       "72210   Spray, William 2021-12-31"
      ]
     },
     "execution_count": 101,
     "metadata": {},
     "output_type": "execute_result"
    }
   ],
   "source": [
    "small_transactions[['Customer', 'DateStamp']].head(30)"
   ]
  },
  {
   "cell_type": "code",
   "execution_count": 102,
   "metadata": {},
   "outputs": [],
   "source": [
    "# transactions.sort_values(by='DateStamp').groupby('Customer', sort=False).head(30)\n",
    "first_transactions = small_transactions.sort_values(by=['Customer','DateStamp']).groupby('Customer').head(1) #.sort_values(by='DateStamp').head(30)"
   ]
  },
  {
   "cell_type": "code",
   "execution_count": 106,
   "metadata": {},
   "outputs": [
    {
     "data": {
      "text/plain": [
       "[('Chapman, Derek', Timestamp('2019-08-05 00:00:00')),\n",
       " ('Mahfet, Sherryl', Timestamp('2020-07-08 00:00:00')),\n",
       " ('Spray, William', Timestamp('2021-12-24 00:00:00'))]"
      ]
     },
     "execution_count": 106,
     "metadata": {},
     "output_type": "execute_result"
    }
   ],
   "source": [
    "first_transactions\n",
    "cust = first_transactions.Customer\n",
    "first_date = first_transactions.DateStamp\n",
    "\n",
    "list(zip(cust, first_date))"
   ]
  },
  {
   "cell_type": "code",
   "execution_count": 60,
   "metadata": {},
   "outputs": [],
   "source": [
    "### export list of lists to a space seperated file"
   ]
  },
  {
   "cell_type": "code",
   "execution_count": 63,
   "metadata": {},
   "outputs": [],
   "source": [
    "test_data = [['a', 'b', 'c', 'd', 'e'],\n",
    "             ['b', 'b', 'b', 'd', 'e'],\n",
    "             ['b', 'b', 'b', 'd', 'e']]"
   ]
  },
  {
   "cell_type": "code",
   "execution_count": 78,
   "metadata": {},
   "outputs": [],
   "source": [
    "transactions.reset_index(drop=True, inplace=True)"
   ]
  },
  {
   "cell_type": "code",
   "execution_count": 109,
   "metadata": {},
   "outputs": [],
   "source": [
    "small_trans = transactions.loc[0:1000, :]\n",
    "\n",
    "customers = list(small_trans.Customer.unique())\n",
    "# customers.pop(customers.index('Cash, Check, Charge'))\n",
    "\n",
    "first_transactions = small_trans.sort_values(by=['Customer','DateStamp']).groupby('Customer').head(1)\n",
    "first_transactions = first_transactions[['Customer', 'DateStamp']]"
   ]
  },
  {
   "cell_type": "code",
   "execution_count": 110,
   "metadata": {},
   "outputs": [],
   "source": [
    "# first_transactions['transactions'] = ''\n",
    "\n",
    "all_trans = []\n",
    "for customer in customers:\n",
    "    # customer = customers[0]\n",
    "    cust_first_date = first_transactions[first_transactions.Customer == customer]['DateStamp']\n",
    "    cust_first_date = cust_first_date.item()\n",
    "\n",
    "    tdf = transactions.loc[(transactions.Customer == customer) & (transactions.DateStamp == cust_first_date)]\n",
    "    cust_trans = tdf['Department'].tolist()\n",
    "    all_trans.append(cust_trans)"
   ]
  },
  {
   "cell_type": "code",
   "execution_count": 111,
   "metadata": {},
   "outputs": [
    {
     "name": "stdout",
     "output_type": "stream",
     "text": [
      "198\n",
      "198\n"
     ]
    },
    {
     "data": {
      "text/plain": [
       "True"
      ]
     },
     "execution_count": 111,
     "metadata": {},
     "output_type": "execute_result"
    }
   ],
   "source": [
    "print(len(all_trans))\n",
    "print(len(first_transactions))\n",
    "len(all_trans) == len(first_transactions)"
   ]
  },
  {
   "cell_type": "code",
   "execution_count": 112,
   "metadata": {},
   "outputs": [],
   "source": [
    "first_transactions['transactions'] = all_trans"
   ]
  },
  {
   "cell_type": "code",
   "execution_count": 113,
   "metadata": {},
   "outputs": [
    {
     "data": {
      "text/html": [
       "<div>\n",
       "<style scoped>\n",
       "    .dataframe tbody tr th:only-of-type {\n",
       "        vertical-align: middle;\n",
       "    }\n",
       "\n",
       "    .dataframe tbody tr th {\n",
       "        vertical-align: top;\n",
       "    }\n",
       "\n",
       "    .dataframe thead th {\n",
       "        text-align: right;\n",
       "    }\n",
       "</style>\n",
       "<table border=\"1\" class=\"dataframe\">\n",
       "  <thead>\n",
       "    <tr style=\"text-align: right;\">\n",
       "      <th></th>\n",
       "      <th>Customer</th>\n",
       "      <th>DateStamp</th>\n",
       "      <th>transactions</th>\n",
       "    </tr>\n",
       "  </thead>\n",
       "  <tbody>\n",
       "    <tr>\n",
       "      <th>577</th>\n",
       "      <td>1016 Properties</td>\n",
       "      <td>2019-01-11</td>\n",
       "      <td>[METER, RETAIL, METER, COPIES, FAX, FAX, COPIE...</td>\n",
       "    </tr>\n",
       "    <tr>\n",
       "      <th>271</th>\n",
       "      <td>Acosta, Luis</td>\n",
       "      <td>2019-01-07</td>\n",
       "      <td>[NOTARY, USPS, USPS]</td>\n",
       "    </tr>\n",
       "    <tr>\n",
       "      <th>661</th>\n",
       "      <td>Adams, Ethel</td>\n",
       "      <td>2019-01-14</td>\n",
       "      <td>[USPS, USPS]</td>\n",
       "    </tr>\n",
       "    <tr>\n",
       "      <th>435</th>\n",
       "      <td>Afuso-doi, Mary</td>\n",
       "      <td>2019-01-09</td>\n",
       "      <td>[USPS]</td>\n",
       "    </tr>\n",
       "    <tr>\n",
       "      <th>681</th>\n",
       "      <td>Agard, Adrian</td>\n",
       "      <td>2019-01-14</td>\n",
       "      <td>[USPS, USPS, MISC NON TAX]</td>\n",
       "    </tr>\n",
       "    <tr>\n",
       "      <th>...</th>\n",
       "      <td>...</td>\n",
       "      <td>...</td>\n",
       "      <td>...</td>\n",
       "    </tr>\n",
       "    <tr>\n",
       "      <th>484</th>\n",
       "      <td>Yamaguchi, Cody</td>\n",
       "      <td>2019-01-09</td>\n",
       "      <td>[USPS]</td>\n",
       "    </tr>\n",
       "    <tr>\n",
       "      <th>590</th>\n",
       "      <td>Yamasato, Charleen</td>\n",
       "      <td>2019-01-11</td>\n",
       "      <td>[USPS, USPS]</td>\n",
       "    </tr>\n",
       "    <tr>\n",
       "      <th>360</th>\n",
       "      <td>Yandell, Diane</td>\n",
       "      <td>2019-01-08</td>\n",
       "      <td>[RETAIL, USPS]</td>\n",
       "    </tr>\n",
       "    <tr>\n",
       "      <th>797</th>\n",
       "      <td>Yi, Yong</td>\n",
       "      <td>2019-01-15</td>\n",
       "      <td>[USPS]</td>\n",
       "    </tr>\n",
       "    <tr>\n",
       "      <th>651</th>\n",
       "      <td>Yorimoto, Lindsey</td>\n",
       "      <td>2019-01-12</td>\n",
       "      <td>[RETAIL, USPS]</td>\n",
       "    </tr>\n",
       "  </tbody>\n",
       "</table>\n",
       "<p>198 rows × 3 columns</p>\n",
       "</div>"
      ],
      "text/plain": [
       "               Customer  DateStamp  \\\n",
       "577     1016 Properties 2019-01-11   \n",
       "271        Acosta, Luis 2019-01-07   \n",
       "661        Adams, Ethel 2019-01-14   \n",
       "435     Afuso-doi, Mary 2019-01-09   \n",
       "681       Agard, Adrian 2019-01-14   \n",
       "..                  ...        ...   \n",
       "484     Yamaguchi, Cody 2019-01-09   \n",
       "590  Yamasato, Charleen 2019-01-11   \n",
       "360      Yandell, Diane 2019-01-08   \n",
       "797            Yi, Yong 2019-01-15   \n",
       "651   Yorimoto, Lindsey 2019-01-12   \n",
       "\n",
       "                                          transactions  \n",
       "577  [METER, RETAIL, METER, COPIES, FAX, FAX, COPIE...  \n",
       "271                               [NOTARY, USPS, USPS]  \n",
       "661                                       [USPS, USPS]  \n",
       "435                                             [USPS]  \n",
       "681                         [USPS, USPS, MISC NON TAX]  \n",
       "..                                                 ...  \n",
       "484                                             [USPS]  \n",
       "590                                       [USPS, USPS]  \n",
       "360                                     [RETAIL, USPS]  \n",
       "797                                             [USPS]  \n",
       "651                                     [RETAIL, USPS]  \n",
       "\n",
       "[198 rows x 3 columns]"
      ]
     },
     "execution_count": 113,
     "metadata": {},
     "output_type": "execute_result"
    }
   ],
   "source": [
    "first_transactions"
   ]
  },
  {
   "cell_type": "code",
   "execution_count": 116,
   "metadata": {},
   "outputs": [
    {
     "data": {
      "text/html": [
       "<div>\n",
       "<style scoped>\n",
       "    .dataframe tbody tr th:only-of-type {\n",
       "        vertical-align: middle;\n",
       "    }\n",
       "\n",
       "    .dataframe tbody tr th {\n",
       "        vertical-align: top;\n",
       "    }\n",
       "\n",
       "    .dataframe thead th {\n",
       "        text-align: right;\n",
       "    }\n",
       "</style>\n",
       "<table border=\"1\" class=\"dataframe\">\n",
       "  <thead>\n",
       "    <tr style=\"text-align: right;\">\n",
       "      <th></th>\n",
       "      <th>Customer</th>\n",
       "      <th>Payment_Method</th>\n",
       "      <th>SKU</th>\n",
       "      <th>Item_Name</th>\n",
       "      <th>QTY</th>\n",
       "      <th>Unit_Price</th>\n",
       "      <th>Discount</th>\n",
       "      <th>Extended_Price</th>\n",
       "      <th>Sub_Total</th>\n",
       "      <th>Sales_Tax</th>\n",
       "      <th>Invoice_Total</th>\n",
       "      <th>DateTimeStamp</th>\n",
       "      <th>DateStamp</th>\n",
       "      <th>Department</th>\n",
       "      <th>transaction_id</th>\n",
       "    </tr>\n",
       "  </thead>\n",
       "  <tbody>\n",
       "    <tr>\n",
       "      <th>651</th>\n",
       "      <td>Yorimoto, Lindsey</td>\n",
       "      <td>CASH</td>\n",
       "      <td>DOCSHRED</td>\n",
       "      <td>Document Shredding (per Lb)</td>\n",
       "      <td>4</td>\n",
       "      <td>1.00</td>\n",
       "      <td>10.00%</td>\n",
       "      <td>3.60</td>\n",
       "      <td>41.77</td>\n",
       "      <td>1.97</td>\n",
       "      <td>43.74</td>\n",
       "      <td>2019-01-12 13:33:00</td>\n",
       "      <td>2019-01-12</td>\n",
       "      <td>RETAIL</td>\n",
       "      <td>656</td>\n",
       "    </tr>\n",
       "    <tr>\n",
       "      <th>652</th>\n",
       "      <td>Yorimoto, Lindsey</td>\n",
       "      <td>CASH</td>\n",
       "      <td>B&amp;W REG</td>\n",
       "      <td>Black &amp; White Standard Copy</td>\n",
       "      <td>184</td>\n",
       "      <td>0.15</td>\n",
       "      <td>10.00%</td>\n",
       "      <td>24.84</td>\n",
       "      <td>41.77</td>\n",
       "      <td>1.97</td>\n",
       "      <td>43.74</td>\n",
       "      <td>2019-01-12 13:33:00</td>\n",
       "      <td>2019-01-12</td>\n",
       "      <td>COPIES</td>\n",
       "      <td>657</td>\n",
       "    </tr>\n",
       "    <tr>\n",
       "      <th>653</th>\n",
       "      <td>Yorimoto, Lindsey</td>\n",
       "      <td>CASH</td>\n",
       "      <td>USPS-PRI</td>\n",
       "      <td>Priority Mail</td>\n",
       "      <td>1</td>\n",
       "      <td>14.81</td>\n",
       "      <td>10.00%</td>\n",
       "      <td>13.33</td>\n",
       "      <td>41.77</td>\n",
       "      <td>1.97</td>\n",
       "      <td>43.74</td>\n",
       "      <td>2019-01-12 13:33:00</td>\n",
       "      <td>2019-01-12</td>\n",
       "      <td>USPS</td>\n",
       "      <td>658</td>\n",
       "    </tr>\n",
       "  </tbody>\n",
       "</table>\n",
       "</div>"
      ],
      "text/plain": [
       "              Customer Payment_Method       SKU                    Item_Name  \\\n",
       "651  Yorimoto, Lindsey           CASH  DOCSHRED  Document Shredding (per Lb)   \n",
       "652  Yorimoto, Lindsey           CASH   B&W REG  Black & White Standard Copy   \n",
       "653  Yorimoto, Lindsey           CASH  USPS-PRI                Priority Mail   \n",
       "\n",
       "     QTY  Unit_Price Discount  Extended_Price  Sub_Total  Sales_Tax  \\\n",
       "651    4        1.00   10.00%            3.60      41.77       1.97   \n",
       "652  184        0.15   10.00%           24.84      41.77       1.97   \n",
       "653    1       14.81   10.00%           13.33      41.77       1.97   \n",
       "\n",
       "     Invoice_Total       DateTimeStamp  DateStamp Department  transaction_id  \n",
       "651          43.74 2019-01-12 13:33:00 2019-01-12     RETAIL             656  \n",
       "652          43.74 2019-01-12 13:33:00 2019-01-12     COPIES             657  \n",
       "653          43.74 2019-01-12 13:33:00 2019-01-12       USPS             658  "
      ]
     },
     "execution_count": 116,
     "metadata": {},
     "output_type": "execute_result"
    }
   ],
   "source": [
    "small_trans.loc[(small_trans.Customer == 'Yorimoto, Lindsey') & (small_trans.DateStamp == '2019-01-12')]"
   ]
  },
  {
   "cell_type": "code",
   "execution_count": 90,
   "metadata": {},
   "outputs": [
    {
     "data": {
      "text/plain": [
       "Timestamp('2019-01-02 00:00:00')"
      ]
     },
     "execution_count": 90,
     "metadata": {},
     "output_type": "execute_result"
    }
   ],
   "source": [
    "cust_first_date.item()"
   ]
  },
  {
   "cell_type": "code",
   "execution_count": 91,
   "metadata": {},
   "outputs": [
    {
     "name": "stdout",
     "output_type": "stream",
     "text": [
      "<class 'pandas._libs.tslibs.timestamps.Timestamp'>\n",
      "\n",
      "<class 'pandas._libs.tslibs.timestamps.Timestamp'>\n"
     ]
    }
   ],
   "source": [
    "print(type(cust_first_date.item()))\n",
    "print(\"\")\n",
    "print(type(transactions.DateStamp[0]))"
   ]
  },
  {
   "cell_type": "code",
   "execution_count": 52,
   "metadata": {},
   "outputs": [
    {
     "data": {
      "text/plain": [
       "19.382652343200263"
      ]
     },
     "execution_count": 52,
     "metadata": {},
     "output_type": "execute_result"
    }
   ],
   "source": [
    "413180/21317\n"
   ]
  },
  {
   "cell_type": "markdown",
   "metadata": {},
   "source": []
  },
  {
   "cell_type": "code",
   "execution_count": 75,
   "metadata": {},
   "outputs": [
    {
     "data": {
      "text/plain": [
       "array([     0, 116295, 232591, 348887, 465183])"
      ]
     },
     "execution_count": 75,
     "metadata": {},
     "output_type": "execute_result"
    }
   ],
   "source": [
    "# plt1.axes.yaxis.get_ticks()\n",
    "# plt1.axes.yaxis.get_ticks_position()\n",
    "# (ax2.yaxis.get_ticklabels())\n",
    "# ( / counts_max * sales_max, 1)\n",
    "(np.array(ax2.get_yticks()) / counts_max * sales_max).astype(int)\n",
    "[0, 115000, 230000, 345_000, 465_000]\n"
   ]
  },
  {
   "cell_type": "markdown",
   "metadata": {},
   "source": []
  },
  {
   "cell_type": "code",
   "execution_count": 114,
   "metadata": {},
   "outputs": [
    {
     "data": {
      "text/plain": [
       "3         4.69\n",
       "4        -2.26\n",
       "6        12.60\n",
       "7        12.42\n",
       "11       20.50\n",
       "         ...  \n",
       "72221    16.20\n",
       "72222     7.15\n",
       "72231     8.13\n",
       "72232     7.15\n",
       "72233    12.85\n",
       "Name: Extended_Price, Length: 21317, dtype: float64"
      ]
     },
     "execution_count": 114,
     "metadata": {},
     "output_type": "execute_result"
    }
   ],
   "source": []
  }
 ],
 "metadata": {
  "interpreter": {
   "hash": "bc47b90a659bbf0cf2e5117b2502bbb016f748103d3a7f4713e21d3bf756069b"
  },
  "kernelspec": {
   "display_name": "Python 3.10.0 ('py310')",
   "name": "python3"
  },
  "language_info": {
   "codemirror_mode": {
    "name": "ipython",
    "version": 3
   },
   "file_extension": ".py",
   "mimetype": "text/x-python",
   "name": "python",
   "nbconvert_exporter": "python",
   "pygments_lexer": "ipython3",
   "version": "3.10.0"
  },
  "orig_nbformat": 4
 },
 "nbformat": 4,
 "nbformat_minor": 2
}
